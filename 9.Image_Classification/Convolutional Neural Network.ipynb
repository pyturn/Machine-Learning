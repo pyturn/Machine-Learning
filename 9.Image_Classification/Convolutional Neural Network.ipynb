{
 "cells": [
  {
   "cell_type": "markdown",
   "metadata": {},
   "source": [
    "In this we will be tranning a CNN to classify dog or cat,\n",
    "But before doing this we need to do Image-Preprocessing,\n",
    "Here we have images of cats and dogs seperated in folders correctly, with correct name with serialno so\n",
    "One solution is to extract label from the images and use it for supervised learning but this is not efficient approach\n",
    "Keras Library has a solution for it we will see it in a while.\n",
    "\n",
    "In Keras we just need to create simple structure which will help us in supervised learning from images without even \n",
    "accessing their names from the image labels.\n",
    "\n",
    "First of all what we need to do is that we need to make training set and test set with images of the classes in the folder separetly, for ex like in training set folder we have to folder cats and dogs with images in them separated, so we have to do same with the test set, through this structure Keras will understand what is the correct label, you have done this before in the inception model in the transfer learning model\n",
    "\n",
    "It is really important to use Feature Scaling in Deep Learning and CV applications we will use it later."
   ]
  },
  {
   "cell_type": "code",
   "execution_count": 1,
   "metadata": {},
   "outputs": [
    {
     "name": "stderr",
     "output_type": "stream",
     "text": [
      "Using TensorFlow backend.\n"
     ]
    }
   ],
   "source": [
    "# Here we have do not need to do Data-Preprocessing so we will start from building our CNN model\n",
    "# Part-1 : Building CNN Model\n",
    "\n",
    "# Importing the important packages and libraries\n",
    "from keras.models import Sequential\n",
    "from keras.layers import Dense, Conv2D, MaxPooling2D, Flatten\n",
    "# Here we use Sequential model to initialize our NN we have two ways one is Sequential and other is Graph\n",
    "# In sequential we can add layers to the NN because CNN is also made from layers only\n",
    "# As you can see that in the layer we have Convolution2D because we ae going to work on images and \n",
    "# if we want to apply CNN to videos then we can apply Convolution3D because we have time also being one dimension\n",
    "# other is just the same that are required for building the CNN that is Convolution Layer, Pooling layer and then Flatten\n",
    "# Dense package is used for fully Connected Layer\n"
   ]
  },
  {
   "cell_type": "code",
   "execution_count": 2,
   "metadata": {},
   "outputs": [
    {
     "data": {
      "text/plain": [
       "u'tensorflow'"
      ]
     },
     "execution_count": 2,
     "metadata": {},
     "output_type": "execute_result"
    }
   ],
   "source": [
    "# This is just to verify that we have tensorflow Backend enabled because it is faster than theano\n",
    "import keras\n",
    "keras.backend.backend()"
   ]
  },
  {
   "cell_type": "code",
   "execution_count": 3,
   "metadata": {
    "collapsed": true
   },
   "outputs": [],
   "source": [
    "# Initializing the CNN\n",
    "model = Sequential()\n",
    "\n",
    "# Adding the Convolution Layer\n",
    "model.add(Conv2D(32, (3, 3), input_shape=(64,64,3), activation='relu'))\n",
    "# Here as we have studied in the CNN model we have used 32 feature detectors in the model and 3X3 is the size of the \n",
    "# feature detector and input_shape is the shape of the image we enter in the model for processing if you are using theano\n",
    "# then the order would change see the documentation and here we are using activations as relu\n"
   ]
  },
  {
   "cell_type": "code",
   "execution_count": 4,
   "metadata": {
    "collapsed": true
   },
   "outputs": [],
   "source": [
    "# Now Pooling the Feature Maps to reduce the size to reduce complexity without compromising performance\n",
    "model.add(MaxPooling2D(pool_size=(2, 2)))\n",
    "# 2X2 is the pool detector in general we take this because loosing information\n",
    "# This step will reduce the size of the feature map and it will computionlly easy to process without lossing info"
   ]
  },
  {
   "cell_type": "markdown",
   "metadata": {},
   "source": [
    "Why we are taking so much pain in creating a convolution layer and pooling layer, why dont we just flatten the input image just input it to the ANN?\n",
    "\n",
    "The answer to above question is that if we input the image without convolution and pooling then we are just simply entering the all the pixels of the image and their is spatial realtion between the feature so classification becomes difficult and computationally expensive\n",
    "\n",
    "But if we are doing the convolution layer and pooling we are extracating certain feature of the image and then we also reducing the size of the image and then we are applying the ANN but here we have also preserved the spatial oreintation of the image and we have also preserved some relationship between the pixel using the feature detectors.\n",
    "\n",
    "SO HIGHLY RECOMMENDED TO USE CNN FOR IMAGE CLASSIFICATION"
   ]
  },
  {
   "cell_type": "code",
   "execution_count": 5,
   "metadata": {
    "collapsed": true
   },
   "outputs": [],
   "source": [
    "# Now we will increase the accuracy more by inserting a second convolution layer\n",
    "model.add(Conv2D(32, (3, 3), activation='relu'))\n",
    "# And we have to also repeat  the pooling step inorder to increase accuracy\n",
    "model.add(MaxPooling2D(pool_size=(2, 2)))"
   ]
  },
  {
   "cell_type": "code",
   "execution_count": 6,
   "metadata": {
    "collapsed": true
   },
   "outputs": [],
   "source": [
    "# Flattening Step\n",
    "model.add(Flatten())"
   ]
  },
  {
   "cell_type": "code",
   "execution_count": 7,
   "metadata": {
    "collapsed": true
   },
   "outputs": [],
   "source": [
    "# Now we have to add Fully Connected Hidden layer in the Network \n",
    "model.add(Dense(units=128, activation='relu'))\n",
    "model.add(Dense(units=1, activation='sigmoid'))\n",
    "# Here output_dim is replaced with units ie number of the nodes in the layer\n",
    "# Here we are using sigmoid function because we have binary classification but if more than 2 class we should use \n",
    "# softmax function"
   ]
  },
  {
   "cell_type": "code",
   "execution_count": 8,
   "metadata": {
    "collapsed": true
   },
   "outputs": [],
   "source": [
    "# Compile Step\n",
    "model.compile(optimizer='adam', loss='binary_crossentropy', metrics=['accuracy'])"
   ]
  },
  {
   "cell_type": "code",
   "execution_count": 9,
   "metadata": {
    "collapsed": true
   },
   "outputs": [],
   "source": [
    "# Now we will do Image Augmentation because it is important to prevent overfitting as we donot have a lot of images\n",
    "# so we have to use this trick to train our model and prevent it from overfitting\n",
    "# You can consider this as image processing step\n",
    "\n",
    "# So what this image augmentation trick will do is that it will divide our training set into batches and then inside\n",
    "# these batches the algorithm will rotate shift and trnasform the images and this will give us many more different \n",
    "# variations in the training set and we can train our model on different example this will make our model\n",
    "# more GENRALIZED and it will predict better\n",
    "\n",
    "# SUMMARY Image Augumentation\n",
    "# It is a technique that allows us to enrich our dataset our training set without adding more images\n",
    "# and therefore allows us to get better results with no or litte overfitting even with the small amounts of images\n",
    "\n"
   ]
  },
  {
   "cell_type": "code",
   "execution_count": 10,
   "metadata": {
    "collapsed": true
   },
   "outputs": [],
   "source": [
    "# This library is used for the technique discussed above\n",
    "from keras.preprocessing.image import ImageDataGenerator"
   ]
  },
  {
   "cell_type": "code",
   "execution_count": 11,
   "metadata": {
    "collapsed": true
   },
   "outputs": [],
   "source": [
    "train_datagen = ImageDataGenerator(rescale=1./255, shear_range=0.2, zoom_range=0.2, horizontal_flip=True)\n",
    "# Here we are creating a object of ImageDataGenerator class with these specifications to be applied in the \n",
    "# training set, Similary with test data\n",
    "test_datagen = ImageDataGenerator(rescale=1./255)\n",
    "\n",
    "# We know that our pixel value lie between 0-255 by using rescale we will pixel value between 0-1 because 1./255 will be\n",
    "# multiplied to the pixel value, rescaling is very important, it is just changing pixel value not the size of the image\n"
   ]
  },
  {
   "cell_type": "code",
   "execution_count": 12,
   "metadata": {},
   "outputs": [
    {
     "name": "stdout",
     "output_type": "stream",
     "text": [
      "Found 8000 images belonging to 2 classes.\n",
      "Found 2000 images belonging to 2 classes.\n"
     ]
    }
   ],
   "source": [
    "training_set = train_datagen.flow_from_directory('dataset/training_set', target_size=(64,64), batch_size=32, \n",
    "                                                 class_mode='binary')\n",
    "\n",
    "test_set = train_datagen.flow_from_directory('dataset/test_set/', target_size=(64,64), batch_size=32, \n",
    "                                                 class_mode='binary')\n"
   ]
  },
  {
   "cell_type": "code",
   "execution_count": 13,
   "metadata": {},
   "outputs": [
    {
     "name": "stdout",
     "output_type": "stream",
     "text": [
      "Epoch 1/25\n",
      "8000/8000 [==============================] - 1107s - loss: 0.3867 - acc: 0.8185 - val_loss: 0.4822 - val_acc: 0.8069\n",
      "Epoch 2/25\n",
      "8000/8000 [==============================] - 1071s - loss: 0.1663 - acc: 0.9326 - val_loss: 0.6073 - val_acc: 0.8084\n",
      "Epoch 3/25\n",
      "8000/8000 [==============================] - 1061s - loss: 0.0925 - acc: 0.9652 - val_loss: 0.8600 - val_acc: 0.8012\n",
      "Epoch 4/25\n",
      "8000/8000 [==============================] - 1060s - loss: 0.0666 - acc: 0.9760 - val_loss: 0.8455 - val_acc: 0.8134\n",
      "Epoch 5/25\n",
      "8000/8000 [==============================] - 1067s - loss: 0.0533 - acc: 0.9808 - val_loss: 0.9470 - val_acc: 0.8109\n",
      "Epoch 6/25\n",
      "8000/8000 [==============================] - 1063s - loss: 0.0439 - acc: 0.9845 - val_loss: 0.9421 - val_acc: 0.8147\n",
      "Epoch 7/25\n",
      "8000/8000 [==============================] - 1066s - loss: 0.0381 - acc: 0.9864 - val_loss: 0.9842 - val_acc: 0.8134\n",
      "Epoch 8/25\n",
      "8000/8000 [==============================] - 1062s - loss: 0.0332 - acc: 0.9884 - val_loss: 1.0516 - val_acc: 0.8084\n",
      "Epoch 9/25\n",
      "8000/8000 [==============================] - 1066s - loss: 0.0311 - acc: 0.9893 - val_loss: 1.1354 - val_acc: 0.8040\n",
      "Epoch 10/25\n",
      "8000/8000 [==============================] - 1061s - loss: 0.0276 - acc: 0.9905 - val_loss: 1.2088 - val_acc: 0.7996\n",
      "Epoch 11/25\n",
      "8000/8000 [==============================] - 1063s - loss: 0.0246 - acc: 0.9917 - val_loss: 1.1366 - val_acc: 0.8098\n",
      "Epoch 12/25\n",
      "8000/8000 [==============================] - 1064s - loss: 0.0230 - acc: 0.9919 - val_loss: 1.0640 - val_acc: 0.8136\n",
      "Epoch 13/25\n",
      "8000/8000 [==============================] - 1063s - loss: 0.0214 - acc: 0.9926 - val_loss: 1.1544 - val_acc: 0.8045\n",
      "Epoch 14/25\n",
      "8000/8000 [==============================] - 1062s - loss: 0.0204 - acc: 0.9931 - val_loss: 1.1211 - val_acc: 0.8187\n",
      "Epoch 15/25\n",
      "8000/8000 [==============================] - 1062s - loss: 0.0190 - acc: 0.9936 - val_loss: 1.1820 - val_acc: 0.8132\n",
      "Epoch 16/25\n",
      "8000/8000 [==============================] - 1060s - loss: 0.0173 - acc: 0.9943 - val_loss: 1.1897 - val_acc: 0.8139\n",
      "Epoch 17/25\n",
      "8000/8000 [==============================] - 1065s - loss: 0.0175 - acc: 0.9942 - val_loss: 1.2045 - val_acc: 0.8100\n",
      "Epoch 18/25\n",
      "8000/8000 [==============================] - 1061s - loss: 0.0161 - acc: 0.9946 - val_loss: 1.2296 - val_acc: 0.8102\n",
      "Epoch 19/25\n",
      "8000/8000 [==============================] - 1068s - loss: 0.0150 - acc: 0.9951 - val_loss: 1.2830 - val_acc: 0.8107\n",
      "Epoch 20/25\n",
      "8000/8000 [==============================] - 1065s - loss: 0.0153 - acc: 0.9949 - val_loss: 1.2613 - val_acc: 0.8145\n",
      "Epoch 21/25\n",
      "8000/8000 [==============================] - 1064s - loss: 0.0143 - acc: 0.9953 - val_loss: 1.2859 - val_acc: 0.8180\n",
      "Epoch 22/25\n",
      "8000/8000 [==============================] - 1057s - loss: 0.0140 - acc: 0.9954 - val_loss: 1.3047 - val_acc: 0.8168\n",
      "Epoch 23/25\n",
      "8000/8000 [==============================] - 1054s - loss: 0.0141 - acc: 0.9953 - val_loss: 1.3287 - val_acc: 0.8095\n",
      "Epoch 24/25\n",
      "8000/8000 [==============================] - 1060s - loss: 0.0130 - acc: 0.9958 - val_loss: 1.2254 - val_acc: 0.8179\n",
      "Epoch 25/25\n",
      "8000/8000 [==============================] - 1057s - loss: 0.0132 - acc: 0.9959 - val_loss: 1.4453 - val_acc: 0.8043\n"
     ]
    },
    {
     "data": {
      "text/plain": [
       "<keras.callbacks.History at 0x7f625ed2bb10>"
      ]
     },
     "execution_count": 13,
     "metadata": {},
     "output_type": "execute_result"
    }
   ],
   "source": [
    "# Here we are using fit generator method to fit our training set because our training data is generated by ImageData\n",
    "# Generator\n",
    "model.fit_generator(training_set, steps_per_epoch=8000, epochs=25, validation_data=test_set, validation_steps=2000)"
   ]
  },
  {
   "cell_type": "code",
   "execution_count": 14,
   "metadata": {
    "collapsed": true
   },
   "outputs": [],
   "source": [
    "# Now as we have trained our model we are going to predict for a single example\n",
    "model.save('model.h5')"
   ]
  },
  {
   "cell_type": "code",
   "execution_count": 15,
   "metadata": {
    "collapsed": true
   },
   "outputs": [],
   "source": [
    "# We are using numpy and and image module from the preprocessing module of keras\n",
    "# The image module is used to load the image which we are going to use for making the single prediction\n",
    "# What we do is that we use image.img_to_array function to convert our test image into array of pixels\n",
    "# Our test Image has dimensions like this 64 X 64 X 3\n",
    "import numpy as np\n",
    "from keras.preprocessing import image\n",
    "test_image = image.load_img('dataset/single_prediction/cat_or_dog_1.jpg', target_size = (64, 64))\n",
    "test_image = image.img_to_array(test_image)\n",
    "\n",
    "# np.expand_dims will convert this image of 3 channels into one with axis onto axis=0 or row axis true\n",
    "# And then we will feed this image into our model to predcit the test image we will use the predict method of our model\n",
    "# to predict the category this can only be accesed when you have trained the model\n",
    "# Now what this np.expand_dims will do is that it will add other dimension to the test_image\n",
    "# that is now test_image is like 1 X 64 x 64 X 3\n",
    "# this is because the model.predict method expect this kind of argument to predict the class\n",
    "# so we need to add this dimensions\n",
    "test_image = np.expand_dims(test_image, axis = 0)\n",
    "result = model.predict(test_image)\n",
    "\n",
    "# Now the training_set.class_indices method is use to the know the indices of all the classes\n",
    "training_set.class_indices\n",
    "if result[0][0] == 1:\n",
    "    prediction = 'dog'\n",
    "else:\n",
    "    prediction = 'cat'"
   ]
  },
  {
   "cell_type": "code",
   "execution_count": 16,
   "metadata": {},
   "outputs": [
    {
     "name": "stdout",
     "output_type": "stream",
     "text": [
      "dog\n"
     ]
    }
   ],
   "source": [
    "print(prediction)"
   ]
  },
  {
   "cell_type": "code",
   "execution_count": null,
   "metadata": {
    "collapsed": true
   },
   "outputs": [],
   "source": []
  },
  {
   "cell_type": "code",
   "execution_count": null,
   "metadata": {
    "collapsed": true
   },
   "outputs": [],
   "source": []
  }
 ],
 "metadata": {
  "anaconda-cloud": {},
  "kernelspec": {
   "display_name": "Python 3",
   "language": "python",
   "name": "python3"
  },
  "language_info": {
   "codemirror_mode": {
    "name": "ipython",
    "version": 3
   },
   "file_extension": ".py",
   "mimetype": "text/x-python",
   "name": "python",
   "nbconvert_exporter": "python",
   "pygments_lexer": "ipython3",
   "version": "3.6.1"
  }
 },
 "nbformat": 4,
 "nbformat_minor": 2
}
