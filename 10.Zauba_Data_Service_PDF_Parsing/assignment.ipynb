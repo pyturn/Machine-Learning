{
 "cells": [
  {
   "cell_type": "markdown",
   "metadata": {
    "collapsed": true
   },
   "source": [
    "For parsing pdf I used tika which is a python port of the Apache Tika library that makes tika available using the Tika REST Server. This makes Apache Tika available as a Python library, installable via Setuptools, Pip and Easy Install.\n",
    "Java 7+ need to be installed on the system as tika-python starts up the Tika REST server in the background."
   ]
  },
  {
   "cell_type": "code",
   "execution_count": 7,
   "metadata": {
    "collapsed": true
   },
   "outputs": [],
   "source": [
    "import re #It will be used for handling standard textual context to parse the pdf.\n",
    "from tika import parser #parsing pdf contents\n",
    "import pandas as pd #making table of the contents of pdf"
   ]
  },
  {
   "cell_type": "code",
   "execution_count": 8,
   "metadata": {
    "collapsed": true
   },
   "outputs": [],
   "source": [
    "# This contains the name of columns of our dataframe as keys.\n",
    "dicty = {}\n",
    "dicty['SRN']=[]\n",
    "dicty['Service_Request_Date']=[]\n",
    "dicty['Payment_Mode_Into']=[]\n",
    "dicty['Received_From']=[]\n",
    "dicty['Name']=[]\n",
    "dicty['Address']=[]\n",
    "dicty['Service_Type']=[]\n",
    "dicty['Service_Description']=[]\n",
    "dicty['Type_of_Fee']=[]\n",
    "dicty['Amount']=[]\n",
    "dicty['Total']=[]\n",
    "dicty['Mode_of_Payment']=[]\n",
    "dicty['Received_Payment_Rs']=[]"
   ]
  },
  {
   "cell_type": "code",
   "execution_count": 9,
   "metadata": {
    "collapsed": true
   },
   "outputs": [],
   "source": [
    "#This function adds the data to dictionary which will be later converted into dataframe. \n",
    "def create_dicty(parsed_pdf,pattern):\n",
    "    \n",
    "#    parsed_pdf contains the content of pdf and regex parsing methods will be applies on this to etract the particular pattern.\n",
    "#    pattern contains the list of pattern for every column. \n",
    "    \n",
    "    p = parsed_pdf\n",
    "    \n",
    "#   Filling every column with the pattern detected anbd splitting.\n",
    "    searched_pattern = re.findall(pattern[0],p,re.I)\n",
    "    dicty['SRN'].append(searched_pattern[0][6:])\n",
    "    \n",
    "    searched_pattern = re.findall(pattern[1],p,re.I)\n",
    "    dicty['Service_Request_Date'].append(searched_pattern[0][23:])\n",
    "    \n",
    "   \n",
    "    searched_pattern = re.findall(pattern[2],p,re.I)\n",
    "    dicty['Payment_Mode_Into'].append(searched_pattern[0][2:-2])\n",
    "    \n",
    "    \n",
    "    searched_pattern = re.findall(pattern[3],p,re.I)\n",
    "    new_pattern = searched_pattern[0].replace('\\n','')\n",
    "    dicty['Address'].append(new_pattern)\n",
    "    \n",
    "    \n",
    "    searched_pattern = re.findall(pattern[4],p,re.I)\n",
    "    dicty['Name'].append(searched_pattern[0])\n",
    "    \n",
    "    \n",
    "    searched_pattern = re.findall(pattern[5],p,re.I)\n",
    "    dicty['Service_Type'].append(searched_pattern[0][14:-1])\n",
    "    \n",
    "    searched_pattern = re.findall(pattern[6][0],p,re.I)\n",
    "    new_pattern = searched_pattern[0].replace('\\n',' ')\n",
    "    dicty['Service_Description'].append(new_pattern[2:pattern[6][1]])\n",
    "    dicty['Type_of_Fee'].append(new_pattern[pattern[6][2]:pattern[6][3]])\n",
    "    dicty['Amount'].append(float(new_pattern[pattern[6][4]:pattern[6][5]]))\n",
    "    \n",
    "    searched_pattern = re.findall(pattern[7],p,re.I)\n",
    "    dicty['Total'].append(float(searched_pattern[0][6:12]))\n",
    "    \n",
    "    searched_pattern = re.findall(pattern[8],p,re.I)\n",
    "    dicty['Received_Payment_Rs'].append(searched_pattern[0][25:-2])\n",
    "    \n",
    "    \n",
    "    searched_pattern = re.findall(pattern[9],p,re.I)\n",
    "    dicty['Mode_of_Payment'].append(searched_pattern[0][2:-2])\n",
    "    \n",
    "    dicty['Received_From'].append(pattern[10])   "
   ]
  },
  {
   "cell_type": "code",
   "execution_count": 10,
   "metadata": {},
   "outputs": [
    {
     "data": {
      "text/plain": [
       "'\\n\\n\\n\\n\\n\\n\\n\\n\\n\\n\\n\\n\\n\\n\\n\\n\\n\\n\\n\\n\\n\\n\\n\\n\\n\\n\\n\\n\\n\\n\\n\\n\\n\\n\\n\\n\\n\\nPage 1 of 1\\n\\nMINISTRY OF CORPORATE AFFAIRS\\nRECEIPT\\nG.A.R.7\\n\\nSRN : U16571275\\n\\nPayment made into :\\n\\nService Request Date : 03/08/2017\\n\\nReceived From :\\nName :\\nAddress :\\n\\nZauba Technologies and Data Services Privat\\n\\nNo 1/10, II Floor, Near Gate No 9\\n\\nAPMC Yard, Yeshwanthpur\\n\\nBangalore , Karnataka\\n\\nIndia - 00560022\\n\\nService Type: Fee for inspection of Public documents\\n\\nService Description Type of Fee Amount(Rs.)\\n\\nICICI BANK\\n\\nFull Particulars of Remittance\\n\\nInspection of Public documents of KEYSTONE \\nREALTORS PRIVATE LIMITED \\n( U45200MH1995PTC094208  )\\n\\nNormal 100.00 \\n\\nTotal 100.00 \\n\\nMode of Payment:\\n\\nNote: View public documents service is available for 3 hrs per company, from the time the \\nfirst document is viewed, and is valid for 1 week\\n\\nCredit Card/Prepaid Card - ICICI Bank\\n\\nReceived Payment Rupees: One Hundred Only\\n\\n\\n\\n\\n'"
      ]
     },
     "execution_count": 10,
     "metadata": {},
     "output_type": "execute_result"
    }
   ],
   "source": [
    "parsedPDF = parser.from_file(\"./U16571275.pdf\")\n",
    "parsedPDF_content = parsedPDF['content']\n",
    "parsedPDF_content"
   ]
  },
  {
   "cell_type": "code",
   "execution_count": 11,
   "metadata": {
    "collapsed": true
   },
   "outputs": [],
   "source": [
    "pattern_srn = r'SRN\\s.\\sU\\d+'\n",
    "#Above pattern is used to find where 'SRN' is present in the content and feed it into table/dataframe.\n",
    "\n",
    "pattern_date = r'Service\\s.*17'\n",
    "#Above pattern is used to find string which starts from 'Service Request date' and end at '17' in the content and feed it into table/dataframe.\n",
    "\n",
    "pattern_payment_mode = r'\\n\\n[A-Z]+\\s[A-Z]+\\n\\n'\n",
    "#This is used to find the pattern written in complete capital words ICICI BANK.\n",
    "\n",
    "pattern_address = '\\n\\nNo.*\\n\\nAPMC.*\\n\\nBangalore.*\\n\\nIndia.*\\n\\n'\n",
    "#This is used to find the pattern starting from APMC containing Banglore and India also.\n",
    "\n",
    "pattern_name = r'Za.*vat'\n",
    "#This is used to find the pattern starting from 'Za'(representing Zauba) and ending to 'vat'(representing Privat).\n",
    "\n",
    "pattern_service_type = r'Service\\sType.*\\n'\n",
    "#This is used to find the pattern containing service type.\n",
    "\n",
    "\n",
    "pattern_service_description_1 = [r'\\n\\nInspection\\sof\\sPublic\\sdocuments\\sof.*\\n.*\\n.*\\n\\n.*\\n\\n',98,100,106,107,113]\n",
    "pattern_service_description_2 = [r'\\n\\nInspection\\sof\\sPublic\\sdocuments\\sof.*\\n.*\\n\\n.*\\n.*\\n\\n',97,98,104,105,111]\n",
    "pattern_service_description_3 = [r'\\n\\nInspection\\sof\\sPublic\\sdocuments\\sof.*\\n.*\\n.*\\n\\n.*\\n\\n',103,104,110,111,117]\n",
    "# Above 3 are different patterns for service descriptions in differnet pdf's. Integer values are given manually after checking \n",
    "# to split only useful part of detected string.\n",
    "\n",
    "pattern_total = r'Total\\s.*\\n\\n'\n",
    "# Designed to find Total.\n",
    "\n",
    "payment_received = r'Received.*\\n\\n'\n",
    "# Designed to find Payment Received.\n",
    "\n",
    "pattern_mode = '\\n\\n.*Card/.*Card.*Bank\\n\\n'\n",
    "# Designed to find Payment mode.\n",
    "\n",
    "pattern_received_from = 'Nan'\n",
    "# filling with null values gor which is empty in all the pdf's"
   ]
  },
  {
   "cell_type": "code",
   "execution_count": 12,
   "metadata": {
    "collapsed": true
   },
   "outputs": [],
   "source": [
    "# This is the list of patterns for all the pdf's.\n",
    "pattern_1 = [pattern_srn,pattern_date,pattern_payment_mode,pattern_address,pattern_name,pattern_service_type,pattern_service_description_1,\n",
    "            pattern_total,payment_received,pattern_mode,pattern_received_from]\n",
    "pattern_2 = [pattern_srn,pattern_date,pattern_payment_mode,pattern_address,pattern_name,pattern_service_type,pattern_service_description_2,\n",
    "            pattern_total,payment_received,pattern_mode,pattern_received_from]\n",
    "pattern_3 = [pattern_srn,pattern_date,pattern_payment_mode,pattern_address,pattern_name,pattern_service_type,pattern_service_description_3,\n",
    "            pattern_total,payment_received,pattern_mode,pattern_received_from]"
   ]
  },
  {
   "cell_type": "code",
   "execution_count": 13,
   "metadata": {
    "collapsed": true
   },
   "outputs": [],
   "source": [
    "# Parsing first pdf and adding it's data to dictionary.\n",
    "parsedPDF = parser.from_file(\"./U16571275.pdf\")\n",
    "parsedPDF_content = parsedPDF['content']\n",
    "create_dicty(parsedPDF_content,pattern_1)"
   ]
  },
  {
   "cell_type": "code",
   "execution_count": 14,
   "metadata": {
    "collapsed": true
   },
   "outputs": [],
   "source": [
    "# Parsing second pdf and adding it's data to dictionary.\n",
    "parsedPDF = parser.from_file(\"./U16572745.pdf\")\n",
    "parsedPDF_content = parsedPDF['content']\n",
    "create_dicty(parsedPDF_content,pattern_2)"
   ]
  },
  {
   "cell_type": "code",
   "execution_count": 15,
   "metadata": {
    "collapsed": true
   },
   "outputs": [],
   "source": [
    "# Parsing third pdf and adding it's data to dictionary.\n",
    "parsedPDF = parser.from_file(\"./U16573131.pdf\")\n",
    "parsedPDF_content = parsedPDF['content']\n",
    "create_dicty(parsedPDF_content,pattern_3)"
   ]
  },
  {
   "cell_type": "code",
   "execution_count": 16,
   "metadata": {
    "collapsed": true
   },
   "outputs": [],
   "source": [
    "#Converting pdf to Dataframe form.\n",
    "df = pd.DataFrame(dicty,columns=['SRN','Service_Request_Date','Payment_Mode_Into','Address','Name','Service_Type','Service_Description',\n",
    "                                'Type_of_Fee','Amount','Total','Received_Payment_Rs','Mode_of_Payment','Received_From'])"
   ]
  },
  {
   "cell_type": "code",
   "execution_count": 17,
   "metadata": {},
   "outputs": [
    {
     "data": {
      "text/html": [
       "<div>\n",
       "<style>\n",
       "    .dataframe thead tr:only-child th {\n",
       "        text-align: right;\n",
       "    }\n",
       "\n",
       "    .dataframe thead th {\n",
       "        text-align: left;\n",
       "    }\n",
       "\n",
       "    .dataframe tbody tr th {\n",
       "        vertical-align: top;\n",
       "    }\n",
       "</style>\n",
       "<table border=\"1\" class=\"dataframe\">\n",
       "  <thead>\n",
       "    <tr style=\"text-align: right;\">\n",
       "      <th></th>\n",
       "      <th>SRN</th>\n",
       "      <th>Service_Request_Date</th>\n",
       "      <th>Payment_Mode_Into</th>\n",
       "      <th>Address</th>\n",
       "      <th>Name</th>\n",
       "      <th>Service_Type</th>\n",
       "      <th>Service_Description</th>\n",
       "      <th>Type_of_Fee</th>\n",
       "      <th>Amount</th>\n",
       "      <th>Total</th>\n",
       "      <th>Received_Payment_Rs</th>\n",
       "      <th>Mode_of_Payment</th>\n",
       "      <th>Received_From</th>\n",
       "    </tr>\n",
       "  </thead>\n",
       "  <tbody>\n",
       "    <tr>\n",
       "      <th>0</th>\n",
       "      <td>U16571275</td>\n",
       "      <td>03/08/2017</td>\n",
       "      <td>ICICI BANK</td>\n",
       "      <td>No 1/10, II Floor, Near Gate No 9APMC Yard, Ye...</td>\n",
       "      <td>Zauba Technologies and Data Services Privat</td>\n",
       "      <td>Fee for inspection of Public documents</td>\n",
       "      <td>Inspection of Public documents of KEYSTONE  RE...</td>\n",
       "      <td>Normal</td>\n",
       "      <td>100.0</td>\n",
       "      <td>100.0</td>\n",
       "      <td>One Hundred Only</td>\n",
       "      <td>Credit Card/Prepaid Card - ICICI Bank</td>\n",
       "      <td>Nan</td>\n",
       "    </tr>\n",
       "    <tr>\n",
       "      <th>1</th>\n",
       "      <td>U16572745</td>\n",
       "      <td>03/08/2017</td>\n",
       "      <td>ICICI BANK</td>\n",
       "      <td>No 1/10, II Floor, Near Gate No 9APMC Yard, Ye...</td>\n",
       "      <td>Zauba Technologies and Data Services Privat</td>\n",
       "      <td>Fee for inspection of Public documents</td>\n",
       "      <td>Inspection of Public documents of LANDMARK  CR...</td>\n",
       "      <td>Normal</td>\n",
       "      <td>100.0</td>\n",
       "      <td>100.0</td>\n",
       "      <td>One Hundred Only</td>\n",
       "      <td>Credit Card/Prepaid Card - ICICI Bank</td>\n",
       "      <td>Nan</td>\n",
       "    </tr>\n",
       "    <tr>\n",
       "      <th>2</th>\n",
       "      <td>U16573131</td>\n",
       "      <td>03/08/2017</td>\n",
       "      <td>ICICI BANK</td>\n",
       "      <td>No 1/10, II Floor, Near Gate No 9APMC Yard, Ye...</td>\n",
       "      <td>Zauba Technologies and Data Services Privat</td>\n",
       "      <td>Fee for inspection of Public documents</td>\n",
       "      <td>Inspection of Public documents of WESNIA INFO ...</td>\n",
       "      <td>Normal</td>\n",
       "      <td>100.0</td>\n",
       "      <td>100.0</td>\n",
       "      <td>One Hundred Only</td>\n",
       "      <td>Credit Card/Prepaid Card - ICICI Bank</td>\n",
       "      <td>Nan</td>\n",
       "    </tr>\n",
       "  </tbody>\n",
       "</table>\n",
       "</div>"
      ],
      "text/plain": [
       "         SRN Service_Request_Date Payment_Mode_Into  \\\n",
       "0  U16571275           03/08/2017        ICICI BANK   \n",
       "1  U16572745           03/08/2017        ICICI BANK   \n",
       "2  U16573131           03/08/2017        ICICI BANK   \n",
       "\n",
       "                                             Address  \\\n",
       "0  No 1/10, II Floor, Near Gate No 9APMC Yard, Ye...   \n",
       "1  No 1/10, II Floor, Near Gate No 9APMC Yard, Ye...   \n",
       "2  No 1/10, II Floor, Near Gate No 9APMC Yard, Ye...   \n",
       "\n",
       "                                          Name  \\\n",
       "0  Zauba Technologies and Data Services Privat   \n",
       "1  Zauba Technologies and Data Services Privat   \n",
       "2  Zauba Technologies and Data Services Privat   \n",
       "\n",
       "                             Service_Type  \\\n",
       "0  Fee for inspection of Public documents   \n",
       "1  Fee for inspection of Public documents   \n",
       "2  Fee for inspection of Public documents   \n",
       "\n",
       "                                 Service_Description Type_of_Fee  Amount  \\\n",
       "0  Inspection of Public documents of KEYSTONE  RE...      Normal   100.0   \n",
       "1  Inspection of Public documents of LANDMARK  CR...      Normal   100.0   \n",
       "2  Inspection of Public documents of WESNIA INFO ...      Normal   100.0   \n",
       "\n",
       "   Total Received_Payment_Rs                        Mode_of_Payment  \\\n",
       "0  100.0    One Hundred Only  Credit Card/Prepaid Card - ICICI Bank   \n",
       "1  100.0    One Hundred Only  Credit Card/Prepaid Card - ICICI Bank   \n",
       "2  100.0    One Hundred Only  Credit Card/Prepaid Card - ICICI Bank   \n",
       "\n",
       "  Received_From  \n",
       "0           Nan  \n",
       "1           Nan  \n",
       "2           Nan  "
      ]
     },
     "execution_count": 17,
     "metadata": {},
     "output_type": "execute_result"
    }
   ],
   "source": [
    "df"
   ]
  },
  {
   "cell_type": "code",
   "execution_count": 18,
   "metadata": {},
   "outputs": [
    {
     "data": {
      "text/plain": [
       "Index(['SRN', 'Service_Request_Date', 'Payment_Mode_Into', 'Address', 'Name',\n",
       "       'Service_Type', 'Service_Description', 'Type_of_Fee', 'Amount', 'Total',\n",
       "       'Received_Payment_Rs', 'Mode_of_Payment', 'Received_From'],\n",
       "      dtype='object')"
      ]
     },
     "execution_count": 18,
     "metadata": {},
     "output_type": "execute_result"
    }
   ],
   "source": [
    "df.columns"
   ]
  },
  {
   "cell_type": "code",
   "execution_count": 19,
   "metadata": {
    "collapsed": true
   },
   "outputs": [],
   "source": [
    "#Converting pdf to csv file.\n",
    "df.to_csv('parsedData.csv',columns = ['SRN','Service_Request_Date','Payment_Mode_Into','Address','Name',\n",
    "                                     'Service_Type','Service_Description','Type_of_Fee','Amount','Total',\n",
    "                                      'Received_Payment_Rs','Mode_of_Payment','Received_From',],index=False)"
   ]
  }
 ],
 "metadata": {
  "kernelspec": {
   "display_name": "Python 3",
   "language": "python",
   "name": "python3"
  },
  "language_info": {
   "codemirror_mode": {
    "name": "ipython",
    "version": 3
   },
   "file_extension": ".py",
   "mimetype": "text/x-python",
   "name": "python",
   "nbconvert_exporter": "python",
   "pygments_lexer": "ipython3",
   "version": "3.6.1"
  }
 },
 "nbformat": 4,
 "nbformat_minor": 2
}
